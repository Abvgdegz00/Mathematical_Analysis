{
 "cells": [
  {
   "cell_type": "markdown",
   "id": "0dee24c0-e9bf-427b-9b04-43e4c8220228",
   "metadata": {
    "id": "0dee24c0-e9bf-427b-9b04-43e4c8220228"
   },
   "source": [
    "# Домашнее задание"
   ]
  },
  {
   "cell_type": "markdown",
   "id": "feafcfd9-2d32-4682-bcd0-07a0c9bbd32c",
   "metadata": {
    "id": "feafcfd9-2d32-4682-bcd0-07a0c9bbd32c"
   },
   "source": [
    "Математический анализ\n",
    "69 баллов"
   ]
  },
  {
   "cell_type": "markdown",
   "id": "b2345ed9-1018-4084-9636-7e7b92bd6c64",
   "metadata": {
    "id": "b2345ed9-1018-4084-9636-7e7b92bd6c64"
   },
   "source": [
    "**Задача 1** (14 баллов)\n",
    "\n",
    "Найдите экстремумы функции:"
   ]
  },
  {
   "cell_type": "markdown",
   "id": "e25e75bf-9d1e-4511-8846-8bfe99ae17f8",
   "metadata": {
    "id": "e25e75bf-9d1e-4511-8846-8bfe99ae17f8"
   },
   "source": [
    "$$\n",
    "f(x, y, z)=2 x^3+2 x y+2 x z+y^2+z^2+2 y-8 .\n",
    "$$"
   ]
  },
  {
   "cell_type": "markdown",
   "id": "ce92b07d-f19e-4f72-ab80-d04d0bae9984",
   "metadata": {
    "id": "ce92b07d-f19e-4f72-ab80-d04d0bae9984"
   },
   "source": [
    "Распишите подробное решение."
   ]
  },
  {
   "cell_type": "code",
   "execution_count": 13,
   "id": "0eddb54d-58f6-47ed-bef4-cb262d500cbe",
   "metadata": {
    "id": "0eddb54d-58f6-47ed-bef4-cb262d500cbe"
   },
   "outputs": [],
   "source": [
    "import sympy as sp\n",
    "import numpy as np\n",
    "import pandas as pd\n",
    "from sklearn.preprocessing import StandardScaler"
   ]
  },
  {
   "cell_type": "code",
   "execution_count": 2,
   "id": "a25d9011",
   "metadata": {},
   "outputs": [
    {
     "name": "stdout",
     "output_type": "stream",
     "text": [
      "Частная производная по x: 6*x**2 + 2*y + 2*z\n",
      "Частная производная по y: 2*x + 2*y + 2\n",
      "Частная производная по z: 2*x + 2*z\n",
      "Точки экстремума: [(-1/3, -2/3, 1/3), (1, -2, -1)]\n",
      "Вторая частная производная по x: 12*x\n",
      "Вторая частная производная по y: 2\n",
      "Вторая частная производная по z: 2\n",
      "Смешанная частная производная dxdy: 2\n",
      "Смешанная частная производная dxdz: 2\n",
      "Смешанная частная производная dydz: 0\n"
     ]
    }
   ],
   "source": [
    "# Обозначим переменные\n",
    "x, y, z = sp.symbols('x y z')\n",
    "\n",
    "# Задаем функцию\n",
    "f = 2 * x**3 + 2 * x * y + 2 * x * z + y**2 + z**2 + 2 * y - 8\n",
    "\n",
    "# Находим первые частные производные по переменным\n",
    "f_dx = f.diff(x)\n",
    "print(f'Частная производная по x: {f_dx}')\n",
    "f_dy = f.diff(y)\n",
    "print(f'Частная производная по y: {f_dy}')\n",
    "f_dz = f.diff(z)\n",
    "print(f'Частная производная по z: {f_dz}')\n",
    "\n",
    "# Решаем систему уравнений, приравнивая частные производные к нулю, чтобы найти точки экстремума\n",
    "points = sp.solve([f_dx, f_dy, f_dz], [x, y, z])\n",
    "print(f'Точки экстремума: {points}')\n",
    "\n",
    "# Находим вторые частные производные для анализа типов экстремумов\n",
    "f_dxdx = f_dx.diff(x)\n",
    "print(f'Вторая частная производная по x: {f_dxdx}')\n",
    "f_dydy = f_dy.diff(y)\n",
    "print(f'Вторая частная производная по y: {f_dydy}')\n",
    "f_dzdz = f_dz.diff(z)\n",
    "print(f'Вторая частная производная по z: {f_dzdz}')\n",
    "f_dxdy = f_dx.diff(y)\n",
    "print(f'Смешанная частная производная dxdy: {f_dxdy}')\n",
    "f_dxdz = f_dx.diff(z)\n",
    "print(f'Смешанная частная производная dxdz: {f_dxdz}')\n",
    "f_dydz = f_dy.diff(z)\n",
    "print(f'Смешанная частная производная dydz: {f_dydz}')"
   ]
  },
  {
   "cell_type": "code",
   "execution_count": 3,
   "id": "3954a906",
   "metadata": {},
   "outputs": [
    {
     "name": "stdout",
     "output_type": "stream",
     "text": [
      "Седловая точка в точке (-1/3, -2/3, 1/3)\n",
      "Минимум в точке (1, -2, -1)\n"
     ]
    }
   ],
   "source": [
    "# Определяем функцию для вычисления матрицы Гессе\n",
    "# Поскольку производные второго порядка выражаются через переменные, значения x, y, z передаются как аргументы\n",
    "def hesse(x_val):\n",
    "    return np.array([\n",
    "        [12 * x_val, 2, 2],\n",
    "        [2, 2, 0],\n",
    "        [2, 0, 2]\n",
    "    ], dtype=float)\n",
    "\n",
    "# Проверяем тип экстремумов в найденных точках\n",
    "for point in points:\n",
    "    x_val = point[0]  # Извлекаем значение x из текущей точки\n",
    "    Hesse = hesse(x_val)  # Вычисляем матрицу Гессе\n",
    "    Hesse_det = np.linalg.det(Hesse)  # Определитель матрицы Гессе\n",
    "    eig = np.linalg.eigvals(Hesse)  # Собственные числа матрицы Гессе\n",
    "\n",
    "    # Определяем тип экстремума на основе определителя и собственных чисел\n",
    "    if Hesse_det > 0 and np.all(eig > 0):\n",
    "        print(\"Минимум в точке\", point)\n",
    "    elif Hesse_det > 0 and np.all(eig < 0):\n",
    "        print(\"Максимум в точке\", point)\n",
    "    elif Hesse_det < 0:\n",
    "        print(\"Седловая точка в точке\", point)\n",
    "    else:\n",
    "        print(\"Точка\", point, \"не является точкой экстремума\")"
   ]
  },
  {
   "cell_type": "markdown",
   "id": "b38584b7-0da5-4858-9422-ff5bc2b3854f",
   "metadata": {
    "id": "b38584b7-0da5-4858-9422-ff5bc2b3854f"
   },
   "source": [
    "**Задача 2** (25 баллов)\n",
    "\n",
    "Найдите условные экстремумы функции:"
   ]
  },
  {
   "cell_type": "markdown",
   "id": "b36ed820-965b-484d-baab-b2cafebe7479",
   "metadata": {
    "id": "b36ed820-965b-484d-baab-b2cafebe7479"
   },
   "source": [
    "$$\n",
    "f(x, y)=4 x+8 y, y^2-2 x y+5=0\n",
    "$$"
   ]
  },
  {
   "cell_type": "markdown",
   "id": "2ce1c6f1-d126-4368-a63e-2bbbefffd542",
   "metadata": {
    "id": "2ce1c6f1-d126-4368-a63e-2bbbefffd542"
   },
   "source": [
    "Вычислите результат самостоятельно (вручную) и с помощью Python. Сравните результаты."
   ]
  },
  {
   "cell_type": "markdown",
   "id": "f1158047",
   "metadata": {},
   "source": [
    "\n",
    "### Решение задачи с использованием метода Лагранжа\n",
    "\n",
    "#### Условие задачи:\n",
    "\n",
    "Найти экстремумы функции \n",
    "$ f(x, y) = 4x + 8y $ \n",
    "при ограничении \n",
    "$ y^2 - 2xy + 5 = 0 $.\n",
    "\n",
    "Объединяем исходную функцию и функцию ограничений в функцию Лагранжа:\n",
    "$ L(x, y, \\lambda) = (4x + 8y) + \\lambda(y^2 - 2xy + 5) $.\n",
    "\n",
    "### Находим частные производные:\n",
    "1) Производная по $x$:\n",
    "$ L_x = 4 - 2\\lambda y $.\n",
    "\n",
    "2) Производная по $y$:\n",
    "$ L_y = 8 + \\lambda(2y - 2x) $.\n",
    "\n",
    "3) Производная по $\\lambda$:\n",
    "$ L_\\lambda = y^2 - 2xy + 5 $.\n",
    "\n",
    "Приравниваем функции частных производных к нулю, получаем систему из 3-х уравнений:\n",
    "\n",
    "1) $ 4 - 2\\lambda y = 0 $\n",
    "\n",
    "2) $ 8 + \\lambda(2y - 2x) = 0 $\n",
    "\n",
    "3) $ y^2 - 2xy + 5 = 0 $.\n",
    "\n",
    "### Решение системы уравнений:\n",
    "\n",
    "#### Шаг 1. Выразим $\\lambda$ из уравнения 1:\n",
    "$ -2\\lambda y = -4 \\implies \\lambda = \\frac{2}{y} $.\n",
    "\n",
    "#### Шаг 2. Подставим $\\lambda = \\frac{2}{y}$ в уравнение 2:\n",
    "$ 8 + \\frac{2}{y}(2y - 2x) = 0 $.\n",
    "\n",
    "Раскрываем скобки:\n",
    "$ 8 + \\frac{2}{y} \\cdot 2y - \\frac{2}{y} \\cdot 2x = 0 $.\n",
    "\n",
    "Упрощаем:\n",
    "$ 8 + 4 - \\frac{4x}{y} = 0 \\implies \\frac{x}{y} = 3 \\implies x = 3y $.\n",
    "\n",
    "#### Шаг 3. Подставим $x = 3y$ в уравнение 3:\n",
    "$ y^2 - 2(3y)y + 5 = 0 $.\n",
    "\n",
    "Раскрываем скобки и упрощаем:\n",
    "$ y^2 - 6y^2 + 5 = 0 \\implies -5y^2 + 5 = 0 \\implies y^2 = 1 $.\n",
    "\n",
    "### Решение для $y$:\n",
    "$ y_1 = 1, \\ y_2 = -1 $.\n",
    "\n",
    "### Нахождение соответствующих значений $x$:\n",
    "$ x_1 = 3 \\cdot 1 = 3, \\ x_2 = 3 \\cdot (-1) = -3 $.\n",
    "\n",
    "### Ответ:\n",
    "Таким образом, условными экстремумами являются точки:\n",
    "$ (3, 1) \\ \\text{и} \\ (-3, -1) $.\n",
    "\n"
   ]
  },
  {
   "cell_type": "code",
   "execution_count": 4,
   "id": "818929f6-c478-49ad-997e-536d3c4f7f33",
   "metadata": {
    "id": "818929f6-c478-49ad-997e-536d3c4f7f33"
   },
   "outputs": [
    {
     "name": "stdout",
     "output_type": "stream",
     "text": [
      "Точки условного экстремума: (-3, -1) и (3, 1)\n"
     ]
    }
   ],
   "source": [
    "# Обозначим переменные\n",
    "x, y, l = sp.symbols('x, y, l')\n",
    "\n",
    "# Задаем функцию, экстремумы которой нужно найти\n",
    "f = 4*x + 8*y\n",
    "\n",
    "# Задаем функцию ограничения\n",
    "f_c = y**2 - 2*x*y + 5\n",
    "\n",
    "# Формируем функцию Лагранжа\n",
    "L = f + l*f_c\n",
    "\n",
    "# Вычисляем первые частные производные функции Лагранжа\n",
    "L_dx = L.diff(x)\n",
    "L_dy = L.diff(y)\n",
    "L_dl = L.diff(l)\n",
    "\n",
    "# Решаем систему уравнений\n",
    "points = sp.solve([L_dx, L_dy, L_dl], [x, y, l])\n",
    "\n",
    "# Выводим результаты: точки условного экстремума\n",
    "print(f'Точки условного экстремума: ({points[0][0]}, {points[0][1]}) и ({points[1][0]}, {points[1][1]})')"
   ]
  },
  {
   "cell_type": "markdown",
   "id": "818083c3-7318-4669-bb15-5a8a48ef543d",
   "metadata": {
    "id": "818083c3-7318-4669-bb15-5a8a48ef543d"
   },
   "source": [
    "**Задача 3** (30 баллов)\n",
    "\n",
    "Вам предложены данные с информацией о успеваемости студентов:\n",
    "\n",
    "Независимые переменные:\n",
    "* Hours Studied: Общее количество часов, потраченных на учебу каждым студентом.\n",
    "* Previous Scores: Баллы, полученные студентами на предыдущих экзаменах.\n",
    "* Sleep Hours: Среднее количество часов сна студента в сутки.\n",
    "* Sample Question Papers Practiced: Количество пробных экзаменационных работ, с которыми студент занимался.\n",
    "  \n",
    "Целевая переменная:\n",
    "* Performance Index: Показатель общей успеваемости каждого студента. Индекс успеваемости отражает академическую успеваемость студента и округляется до ближайшего целого числа. Индекс варьируется от 10 до 100, при этом более высокие значения свидетельствуют о более высокой успеваемости."
   ]
  },
  {
   "cell_type": "markdown",
   "id": "f65c2300-43b2-4c43-b762-1e20d29ae889",
   "metadata": {
    "id": "f65c2300-43b2-4c43-b762-1e20d29ae889"
   },
   "source": [
    "**Решите задачу линейной регрессии, реализовав градиентный спуск самостоятельно, не используя готовое решение из какой-либо библиотеки.**"
   ]
  },
  {
   "cell_type": "code",
   "execution_count": 9,
   "id": "2cd62668",
   "metadata": {},
   "outputs": [
    {
     "name": "stdout",
     "output_type": "stream",
     "text": [
      "Описание данных:\n",
      "        Hours Studied  Previous Scores   Sleep Hours  \\\n",
      "count   10000.000000     10000.000000  10000.000000   \n",
      "mean        4.992900        69.445700      6.530600   \n",
      "std         2.589309        17.343152      1.695863   \n",
      "min         1.000000        40.000000      4.000000   \n",
      "25%         3.000000        54.000000      5.000000   \n",
      "50%         5.000000        69.000000      7.000000   \n",
      "75%         7.000000        85.000000      8.000000   \n",
      "max         9.000000        99.000000      9.000000   \n",
      "\n",
      "       Sample Question Papers Practiced  Performance Index  \n",
      "count                      10000.000000       10000.000000  \n",
      "mean                           4.583300          55.224800  \n",
      "std                            2.867348          19.212558  \n",
      "min                            0.000000          10.000000  \n",
      "25%                            2.000000          40.000000  \n",
      "50%                            5.000000          55.000000  \n",
      "75%                            7.000000          71.000000  \n",
      "max                            9.000000         100.000000  \n",
      "\n",
      "Информация о данных:\n",
      "\n",
      "<class 'pandas.core.frame.DataFrame'>\n",
      "RangeIndex: 10000 entries, 0 to 9999\n",
      "Data columns (total 5 columns):\n",
      " #   Column                            Non-Null Count  Dtype  \n",
      "---  ------                            --------------  -----  \n",
      " 0   Hours Studied                     10000 non-null  int64  \n",
      " 1   Previous Scores                   10000 non-null  int64  \n",
      " 2   Sleep Hours                       10000 non-null  int64  \n",
      " 3   Sample Question Papers Practiced  10000 non-null  int64  \n",
      " 4   Performance Index                 10000 non-null  float64\n",
      "dtypes: float64(1), int64(4)\n",
      "memory usage: 390.8 KB\n"
     ]
    }
   ],
   "source": [
    "# Чтение данных\n",
    "data = pd.read_csv('Student_Performance.csv')\n",
    "data.drop('Extracurricular Activities', axis=1, inplace=True)\n",
    "\n",
    "# Инициализация переменной с количеством наблюдений\n",
    "n = data.shape[0]\n",
    "\n",
    "# Выводим анализ данных\n",
    "print(\"Описание данных:\\n\", data.describe())\n",
    "print(\"\\nИнформация о данных:\\n\")\n",
    "data.info()"
   ]
  },
  {
   "cell_type": "markdown",
   "id": "b2461fee",
   "metadata": {},
   "source": [
    "1) В данных нет отсутствующих значений.\n",
    "2) Один из признаков имеет значительно большую размерность по сравнению с остальными.\n",
    "3) Все признаки являются числовыми."
   ]
  },
  {
   "cell_type": "code",
   "execution_count": null,
   "id": "3900c065-fb9b-45bf-bc1f-a9c9d0ab5c20",
   "metadata": {
    "id": "3900c065-fb9b-45bf-bc1f-a9c9d0ab5c20"
   },
   "outputs": [
    {
     "name": "stdout",
     "output_type": "stream",
     "text": [
      "Сходимость достигнута на 265903-й итерации\n",
      "Коэффициенты модели:\n",
      " [[55.225]\n",
      " [ 7.388]\n",
      " [17.665]\n",
      " [ 0.808]\n",
      " [ 0.56 ]]\n",
      "Средняя абсолютная процентная ошибка (MAPE): 3.50%\n"
     ]
    }
   ],
   "source": [
    "# Инициализация матрицы признаков и целевого вектора\n",
    "X = data[['Hours Studied', 'Previous Scores', 'Sleep Hours', 'Sample Question Papers Practiced']].values\n",
    "y = data['Performance Index'].values.reshape(n, 1)\n",
    "\n",
    "# Стандартизация признаков\n",
    "scaler = StandardScaler()\n",
    "X = scaler.fit_transform(X)\n",
    "\n",
    "# Добавление столбца единиц для интерсепта\n",
    "X = np.append(np.ones((n, 1)), X, axis=1)\n",
    "\n",
    "# Инициализация начального вектора коэффициентов\n",
    "w = np.zeros((X.shape[1], 1))\n",
    "\n",
    "# Реализация функции потерь\n",
    "def cost_function(X, y, par):\n",
    "    y_pred = X @ par\n",
    "    error = (y_pred - y) ** 2\n",
    "    cost = np.mean(error)\n",
    "    return cost\n",
    "\n",
    "# Реализация функции градиентного спуска\n",
    "def grad_d(X, y, par, alpha, iterations, eps=1e-4):\n",
    "    costs = []\n",
    "    for i in range(iterations):\n",
    "        y_pred = X @ par\n",
    "        der = X.T @ (y_pred - y) / n\n",
    "        par -= alpha * der\n",
    "        costs.append(cost_function(X, y, par))\n",
    "        if np.linalg.norm(der) < eps:\n",
    "            print(f\"Сходимость достигнута на {i}-й итерации\")\n",
    "            break\n",
    "    return par, costs\n",
    "\n",
    "# Параметры для градиентного спуска\n",
    "alpha = 0.00005  # Скорость обучения\n",
    "iterations = 500000  # Максимальное количество итераций\n",
    "\n",
    "# Вычисляем коэффициенты регрессии\n",
    "w, costs = grad_d(X, y, w, alpha, iterations)\n",
    "\n",
    "# Вывод коэффициентов\n",
    "print(\"Коэффициенты модели:\\n\", w.round(3))\n",
    "\n",
    "# Предсказание значений целевой переменной\n",
    "y_pred = X @ w\n",
    "\n",
    "# Оценка ошибки предсказания\n",
    "mape = np.mean(np.abs(y - y_pred) / y) * 100\n",
    "print(f\"Средняя абсолютная процентная ошибка (MAPE): {mape:.2f}%\")"
   ]
  }
 ],
 "metadata": {
  "colab": {
   "provenance": []
  },
  "kernelspec": {
   "display_name": "Python 3",
   "language": "python",
   "name": "python3"
  },
  "language_info": {
   "codemirror_mode": {
    "name": "ipython",
    "version": 3
   },
   "file_extension": ".py",
   "mimetype": "text/x-python",
   "name": "python",
   "nbconvert_exporter": "python",
   "pygments_lexer": "ipython3",
   "version": "3.10.6"
  }
 },
 "nbformat": 4,
 "nbformat_minor": 5
}
